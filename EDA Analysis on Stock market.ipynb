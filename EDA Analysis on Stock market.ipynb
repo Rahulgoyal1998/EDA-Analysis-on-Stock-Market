{
 "cells": [
  {
   "cell_type": "code",
   "execution_count": null,
   "id": "fcacf498",
   "metadata": {},
   "outputs": [],
   "source": [
    "pip install plotly"
   ]
  },
  {
   "cell_type": "code",
   "execution_count": 1,
   "id": "d93ee836",
   "metadata": {},
   "outputs": [],
   "source": [
    "import pandas as pd\n",
    "import datetime\n",
    "from datetime import date , timedelta\n",
    "\n",
    "import plotly.graph_objects as go\n",
    "import plotly.express as px\n",
    "\n",
    "import plotly.io as pio\n",
    "\n",
    "\n",
    "pio.templates.default = \"plotly_white\""
   ]
  },
  {
   "cell_type": "code",
   "execution_count": 3,
   "id": "3e881f99",
   "metadata": {
    "scrolled": true
   },
   "outputs": [
    {
     "name": "stdout",
     "output_type": "stream",
     "text": [
      "         Date       Open       High        Low      Close  Adj Close  \\\n",
      "0  2013-11-07  45.099998  50.090000  44.000000  44.900002  44.900002   \n",
      "1  2013-11-08  45.930000  46.939999  40.685001  41.650002  41.650002   \n",
      "2  2013-11-11  40.500000  43.000000  39.400002  42.900002  42.900002   \n",
      "3  2013-11-12  43.660000  43.779999  41.830002  41.900002  41.900002   \n",
      "4  2013-11-13  41.029999  42.869999  40.759998  42.599998  42.599998   \n",
      "..        ...        ...        ...        ...        ...        ...   \n",
      "95 2014-03-27  45.090000  46.400002  43.310001  46.320000  46.320000   \n",
      "96 2014-03-28  46.650002  47.340000  45.700001  47.299999  47.299999   \n",
      "97 2014-03-31  47.549999  47.750000  46.430000  46.669998  46.669998   \n",
      "98 2014-04-01  46.709999  47.590000  46.180000  46.980000  46.980000   \n",
      "99 2014-04-02  47.400002  47.439999  45.509998  45.730000  45.730000   \n",
      "\n",
      "         Volume  \n",
      "0   117701670.0  \n",
      "1    27925307.0  \n",
      "2    16113941.0  \n",
      "3     6316755.0  \n",
      "4     8688325.0  \n",
      "..          ...  \n",
      "95   15507597.0  \n",
      "96    9610491.0  \n",
      "97    5794497.0  \n",
      "98    6916147.0  \n",
      "99    7911260.0  \n",
      "\n",
      "[100 rows x 7 columns]\n"
     ]
    }
   ],
   "source": [
    "#1)Read the data and display the first 100 rows from the data\n",
    "\n",
    "data = pd.read_excel('TWTR.xlsx')\n",
    "print(data.head(100))"
   ]
  },
  {
   "cell_type": "code",
   "execution_count": 4,
   "id": "bd5f1286",
   "metadata": {},
   "outputs": [
    {
     "name": "stdout",
     "output_type": "stream",
     "text": [
      "<class 'pandas.core.frame.DataFrame'>\n",
      "RangeIndex: 2264 entries, 0 to 2263\n",
      "Data columns (total 7 columns):\n",
      " #   Column     Non-Null Count  Dtype         \n",
      "---  ------     --------------  -----         \n",
      " 0   Date       2264 non-null   datetime64[ns]\n",
      " 1   Open       2259 non-null   float64       \n",
      " 2   High       2259 non-null   float64       \n",
      " 3   Low        2259 non-null   float64       \n",
      " 4   Close      2259 non-null   float64       \n",
      " 5   Adj Close  2259 non-null   float64       \n",
      " 6   Volume     2259 non-null   float64       \n",
      "dtypes: datetime64[ns](1), float64(6)\n",
      "memory usage: 123.9 KB\n",
      "None\n"
     ]
    }
   ],
   "source": [
    "#2)Give the column insights \n",
    "\n",
    "print(data.info())"
   ]
  },
  {
   "cell_type": "code",
   "execution_count": 5,
   "id": "56939b68",
   "metadata": {},
   "outputs": [
    {
     "name": "stdout",
     "output_type": "stream",
     "text": [
      "Date         0\n",
      "Open         5\n",
      "High         5\n",
      "Low          5\n",
      "Close        5\n",
      "Adj Close    5\n",
      "Volume       5\n",
      "dtype: int64\n"
     ]
    }
   ],
   "source": [
    "#3)Check whether this dataset contains any null values or not if it is there then remove the null values from it \n",
    "\n",
    "print(data.isnull().sum())"
   ]
  },
  {
   "cell_type": "code",
   "execution_count": 6,
   "id": "5a235ced",
   "metadata": {},
   "outputs": [
    {
     "name": "stdout",
     "output_type": "stream",
     "text": [
      "         Date       Open       High        Low      Close  Adj Close  \\\n",
      "0  2013-11-07  45.099998  50.090000  44.000000  44.900002  44.900002   \n",
      "1  2013-11-08  45.930000  46.939999  40.685001  41.650002  41.650002   \n",
      "2  2013-11-11  40.500000  43.000000  39.400002  42.900002  42.900002   \n",
      "3  2013-11-12  43.660000  43.779999  41.830002  41.900002  41.900002   \n",
      "4  2013-11-13  41.029999  42.869999  40.759998  42.599998  42.599998   \n",
      "..        ...        ...        ...        ...        ...        ...   \n",
      "95 2014-03-27  45.090000  46.400002  43.310001  46.320000  46.320000   \n",
      "96 2014-03-28  46.650002  47.340000  45.700001  47.299999  47.299999   \n",
      "97 2014-03-31  47.549999  47.750000  46.430000  46.669998  46.669998   \n",
      "98 2014-04-01  46.709999  47.590000  46.180000  46.980000  46.980000   \n",
      "99 2014-04-02  47.400002  47.439999  45.509998  45.730000  45.730000   \n",
      "\n",
      "         Volume  \n",
      "0   117701670.0  \n",
      "1    27925307.0  \n",
      "2    16113941.0  \n",
      "3     6316755.0  \n",
      "4     8688325.0  \n",
      "..          ...  \n",
      "95   15507597.0  \n",
      "96    9610491.0  \n",
      "97    5794497.0  \n",
      "98    6916147.0  \n",
      "99    7911260.0  \n",
      "\n",
      "[100 rows x 7 columns]\n"
     ]
    }
   ],
   "source": [
    "data = data.dropna()\n",
    "print(data.head(100))\n"
   ]
  },
  {
   "cell_type": "code",
   "execution_count": 7,
   "id": "1a2c071b",
   "metadata": {},
   "outputs": [
    {
     "name": "stdout",
     "output_type": "stream",
     "text": [
      "Date         0\n",
      "Open         0\n",
      "High         0\n",
      "Low          0\n",
      "Close        0\n",
      "Adj Close    0\n",
      "Volume       0\n",
      "dtype: int64\n"
     ]
    }
   ],
   "source": [
    "print(data.isnull().sum())"
   ]
  },
  {
   "cell_type": "code",
   "execution_count": 8,
   "id": "e9de5d77",
   "metadata": {},
   "outputs": [
    {
     "name": "stdout",
     "output_type": "stream",
     "text": [
      "              Open         High          Low        Close    Adj Close  \\\n",
      "count  2259.000000  2259.000000  2259.000000  2259.000000  2259.000000   \n",
      "mean     36.020286    36.699881    35.339465    36.003625    36.003625   \n",
      "std      14.118463    14.372057    13.828724    14.089989    14.089989   \n",
      "min      13.950000    14.220000    13.725000    14.010000    14.010000   \n",
      "25%      25.550000    26.215001    24.912501    25.410000    25.410000   \n",
      "50%      35.419998    36.099998    34.820000    35.490002    35.490002   \n",
      "75%      44.205000    45.015000    43.327501    44.135000    44.135000   \n",
      "max      78.360001    80.750000    76.050003    77.629997    77.629997   \n",
      "\n",
      "             Volume  \n",
      "count  2.259000e+03  \n",
      "mean   2.175186e+07  \n",
      "std    1.909988e+07  \n",
      "min    0.000000e+00  \n",
      "25%    1.233530e+07  \n",
      "50%    1.691305e+07  \n",
      "75%    2.428082e+07  \n",
      "max    2.692131e+08  \n"
     ]
    }
   ],
   "source": [
    "#4)Find the statistical description of the data.\n",
    "\n",
    "print(data.describe())"
   ]
  },
  {
   "cell_type": "code",
   "execution_count": null,
   "id": "3a4ee6f4",
   "metadata": {},
   "outputs": [],
   "source": [
    "#5)Find the missing values in the data \n",
    "\n",
    "print(data.isnull().sum())"
   ]
  },
  {
   "cell_type": "code",
   "execution_count": null,
   "id": "477d74ca",
   "metadata": {},
   "outputs": [],
   "source": [
    "get_ipython().system('pip install statsmodels')"
   ]
  },
  {
   "cell_type": "code",
   "execution_count": null,
   "id": "aacb1950",
   "metadata": {},
   "outputs": [],
   "source": [
    "#6)Give me the Z-test O/R T-test over High, low, and close columns and see if the null hypothesis gets rejected or accepted\n",
    "\n",
    "#Program for z-test\n",
    "\n",
    "import statistics as st\n",
    "from statsmodels.stats import weightstats as stests\n",
    "from numpy import random\n",
    "\n",
    "high = data['High']\n",
    "print('Data=' ,high)\n",
    "high_mean = st.mean(high)\n",
    "print(\"Mean Data = \" , high_mean)\n",
    "high_stdev = st.stdev(high)\n",
    "print(\"Standard Deviation\" , high_stdev)\n",
    "\n",
    "ztest  , pval = stests.ztest(high , value = 30)\n",
    "print(\"Z-test Score\" , ztest)\n",
    "print(\"p-Value \" , pval)\n",
    "\n",
    "if pval<0.05:\n",
    "    print(\"Reject Null hypothesis\")\n",
    "else:\n",
    "    print(\"Accept the Null hypothesis\")"
   ]
  },
  {
   "cell_type": "code",
   "execution_count": null,
   "id": "7d9c65b9",
   "metadata": {},
   "outputs": [],
   "source": [
    "#program for T-test\n",
    "\n",
    "from scipy.stats import ttest_1samp\n",
    "import statistics as st\n",
    "\n",
    "\n",
    "\n",
    "high = data['High']\n",
    "print('Data=' ,high)\n",
    "high_mean = st.mean(high)\n",
    "print(\"Mean Data = \" , high_mean)\n",
    "high_stdev = st.stdev(high)\n",
    "print(\"Standard Deviation\" , high_stdev)\n",
    "\n",
    "t_test  , pval = ttest_1samp(high , 50)\n",
    "print(\"T-test Score\" , t_test)\n",
    "print(\"p-Value \" , pval)\n",
    "\n",
    "if pval<0.05:\n",
    "    print(\"Reject Null hypothesis\")\n",
    "else:\n",
    "    print(\"Accept the Null hypothesis\")"
   ]
  },
  {
   "cell_type": "code",
   "execution_count": null,
   "id": "57c1816a",
   "metadata": {},
   "outputs": [],
   "source": [
    "#7)By using ANOVA find the Fvalue and Pvalue from the data and see its Acceptance and rejection of the Null hypothesis\n",
    "\n",
    "import pandas as pd\n",
    "import scipy.stats\n",
    "import io\n",
    "data = pd.read_csv('twtr.csv')\n",
    "print(data.head(5))\n",
    "data = data.dropna()\n",
    "\n",
    "grp1= data['High']\n",
    "grp2 = data['Low']\n",
    "print(grp1.head(5))\n",
    "print(grp2.head(5))\n",
    "\n",
    "F , pval = scipy.stats.f_oneway(grp1 , grp2)\n",
    "print(F)\n",
    "print(pval)\n",
    "\n",
    "if  pval<0.05:\n",
    "    print(\"Reject Null Hypothesis\")\n",
    "else:\n",
    "    print(\"Accept Null Hypothesis\")"
   ]
  },
  {
   "cell_type": "code",
   "execution_count": null,
   "id": "df9ec314",
   "metadata": {},
   "outputs": [],
   "source": [
    "#8)Check if the data is dependent or independent by using the chi-square method\n",
    "\n",
    "from scipy import stats\n",
    "datas = {'High':data['High'] , 'Low':data['Low']}\n",
    "print(datas)\n",
    "chisq  , pval = scipy.stats.chisquare(datas['Low'])\n",
    "\n",
    "alpha = 0.05\n",
    "print(\"Chi-Square value =\" , chisq)\n",
    "\n",
    "print(\"p-value is \" , pval)\n",
    "\n",
    "\n",
    "if pval<alpha:\n",
    "    print(\"Dependent {Reject Ho}\")\n",
    "else:\n",
    "    print(\"Independent{Accept the Ho}\")\n"
   ]
  },
  {
   "cell_type": "code",
   "execution_count": 10,
   "id": "646a16b9",
   "metadata": {},
   "outputs": [
    {
     "name": "stdout",
     "output_type": "stream",
     "text": [
      "           Data\n",
      "0     95.350438\n",
      "1    107.494255\n",
      "2    105.492785\n",
      "3    101.953035\n",
      "4     93.874699\n",
      "..          ...\n",
      "195  103.641654\n",
      "196  112.747198\n",
      "197  101.308573\n",
      "198   91.422049\n",
      "199  102.029842\n",
      "\n",
      "[200 rows x 1 columns]\n",
      "         Data\n",
      "0    0.375779\n",
      "1    0.595733\n",
      "2    0.435615\n",
      "3    0.152432\n",
      "4    0.493839\n",
      "..        ...\n",
      "195  0.287523\n",
      "196  1.015972\n",
      "197  0.100875\n",
      "198  0.690052\n",
      "199  0.158577\n",
      "\n",
      "[200 rows x 1 columns]\n",
      "Nos of outliers= Data    2\n",
      "dtype: int64\n",
      "Outliers are:      Data\n",
      "0     NaN\n",
      "1     NaN\n",
      "2     NaN\n",
      "3     NaN\n",
      "4     NaN\n",
      "..    ...\n",
      "195   NaN\n",
      "196   NaN\n",
      "197   NaN\n",
      "198   NaN\n",
      "199   NaN\n",
      "\n",
      "[200 rows x 1 columns]\n",
      "           Data\n",
      "0     95.350438\n",
      "1    107.494255\n",
      "2    105.492785\n",
      "3    101.953035\n",
      "4     93.874699\n",
      "..          ...\n",
      "195  103.641654\n",
      "196  112.747198\n",
      "197  101.308573\n",
      "198   91.422049\n",
      "199  102.029842\n",
      "\n",
      "[200 rows x 1 columns]\n",
      "(200, 1)\n",
      "(200, 1)\n"
     ]
    }
   ],
   "source": [
    "#Outliers --\n",
    "\n",
    "from scipy import stats\n",
    "import numpy as np\n",
    "import pandas as pd\n",
    "\n",
    "mu  , sigma = 100 , 5\n",
    "\n",
    "array = np.random.normal(mu , sigma , 200)\n",
    "\n",
    "array[90] = 180\n",
    "array[50] = -40\n",
    "\n",
    "df = pd.DataFrame(array , columns=['Data'])\n",
    "print(df)\n",
    "\n",
    "z = np.abs(stats.zscore(df))\n",
    "\n",
    "print(z)\n",
    "\n",
    "\n",
    "print(\"Nos of outliers=\" ,df[z>3].count())\n",
    "print(\"Outliers are:\",df[(z>3)|(z<-3)])\n",
    "df_new =  df[(z>-3)&(z<3)]\n",
    "\n",
    "print(df_new)\n",
    "print(df.shape)\n",
    "print(df_new.shape)"
   ]
  },
  {
   "cell_type": "code",
   "execution_count": null,
   "id": "8727177d",
   "metadata": {},
   "outputs": [],
   "source": [
    "data = pd.read_excel('twtr.xlsx')\n",
    "print(data.head(100)"
   ]
  },
  {
   "cell_type": "code",
   "execution_count": null,
   "id": "b1372637",
   "metadata": {},
   "outputs": [],
   "source": [
    "print(data.isnull().sum())"
   ]
  },
  {
   "cell_type": "code",
   "execution_count": null,
   "id": "861cc7ff",
   "metadata": {},
   "outputs": [],
   "source": [
    "data = data.dropna()\n",
    "print(data.head(50))"
   ]
  },
  {
   "cell_type": "code",
   "execution_count": null,
   "id": "d4dbbabc",
   "metadata": {},
   "outputs": [],
   "source": [
    "#11)Show the Twitter stock prices over the years  and give a conclusion.\n",
    "\n",
    "figure = go.Figure(data = [go.Candlestick(x = data[\"Date\"],\n",
    "                                        open =data[\"Open\"],\n",
    "                                       high = data[\"High\"],\n",
    "                                       low = data[\"Low\"],\n",
    "                                       close = data[\"Close\"])])\n",
    "\n",
    "figure.update_layout(title=\"Twitter Stcok Prices Over the Years\" , xaxis_rangeslider_visible=False)\n",
    "\n",
    "figure.show()"
   ]
  },
  {
   "cell_type": "code",
   "execution_count": null,
   "id": "2d30d0d9",
   "metadata": {},
   "outputs": [],
   "source": [
    "#12)Now compare the close vs date column for Twitter prices over the years.\n",
    "\n",
    "figure = px.bar(data , \n",
    "               x = \"Date\",\n",
    "               y = \"Close\",\n",
    "               color = \"Close\")\n",
    "\n",
    "figure.update_xaxes(rangeslider_visible= True)\n",
    "figure.show()"
   ]
  },
  {
   "cell_type": "code",
   "execution_count": null,
   "id": "52b5cb69",
   "metadata": {},
   "outputs": [],
   "source": [
    "import seaborn as sns\n",
    "import matplotlib.pyplot as plt\n",
    "\n",
    "plt.figure(figsize=(16,10))\n",
    "\n",
    "sns.heatmap(data.isnull() , cbar = False , cmap=\"YlGnBu\")\n",
    "\n",
    "plt.show()"
   ]
  },
  {
   "cell_type": "code",
   "execution_count": null,
   "id": "346b82ef",
   "metadata": {},
   "outputs": [],
   "source": [
    "#14)Assign buttons to control time periods.  Add the  buttons to analyze the stock prices of Twitter in different time periods:\n",
    "\n",
    "figure = px.bar(data , x = \"Date\" , y =\"Close\" , color = \"Close\")\n",
    "figure.update_xaxes(rangeslider_visible = True)\n",
    "\n",
    "figure.update_layout(title = \"Twitter Stock prices over the years\" , xaxis_rangeslider_visible=False)\n",
    "\n",
    "figure.update_xaxes(\n",
    "    \n",
    "    \n",
    "    \n",
    "    \n",
    "    \n",
    "    \n",
    "    \n",
    "    rangeselector = dict(\n",
    "        buttons = list([\n",
    "            \n",
    "            dict(count = 1 ,label = \"1m\" , step =\"month\" ,stepmode =\"backward\"),\n",
    "            dict(count = 6 ,label = \"6m\" , step =\"month\" ,stepmode =\"backward\"),\n",
    "            dict(count = 3 ,label = \"3m\" , step =\"month\" ,stepmode =\"backward\"),\n",
    "            dict(count = 1 ,label = \"1y\" , step =\"year\" ,stepmode =\"backward\"),\n",
    "            dict(count = 2 ,label = \"2y\" , step =\"year\" ,stepmode =\"backward\"),\n",
    "            dict(step=\"all\"),\n",
    "                \n",
    "            \n",
    "        ])\n",
    "    \n",
    "    \n",
    "    )\n",
    "\n",
    ")\n",
    "\n",
    "\n",
    "figure.show()"
   ]
  },
  {
   "cell_type": "code",
   "execution_count": null,
   "id": "c99500f8",
   "metadata": {},
   "outputs": [],
   "source": [
    "#15)Give the complete timeline of Twitter in the stock market. (Line Graph)\n",
    "\n",
    "data[\"Date\"] = pd.to_datetime(data[\"Date\"], format='%Y-%m-%d')\n",
    "data['Year'] = data['Date'].dt.year\n",
    "\n",
    "data[\"Month\"] = data[\"Date\"].dt.month\n",
    "\n",
    "\n",
    "\n",
    "\n",
    "fig = px.line(data , \n",
    "             x=\"Month\",\n",
    "             y=\"Close\",\n",
    "             color =\"Year\",\n",
    "             title =\"Complete timeline of Twitter\")\n",
    "\n",
    "fig.show()"
   ]
  },
  {
   "cell_type": "code",
   "execution_count": null,
   "id": "268a7943",
   "metadata": {},
   "outputs": [],
   "source": [
    "import plotly.figure_factory as ff\n",
    "import numpy as np\n",
    "x = np.random.rand(15,12)\n",
    "fig = ff.create_dendrogram(x)\n",
    "fig.update_layout({'plot_bgcolor':'white'})\n",
    "fig.show()"
   ]
  },
  {
   "cell_type": "code",
   "execution_count": null,
   "id": "e294b7e1",
   "metadata": {},
   "outputs": [],
   "source": []
  }
 ],
 "metadata": {
  "kernelspec": {
   "display_name": "Python 3 (ipykernel)",
   "language": "python",
   "name": "python3"
  },
  "language_info": {
   "codemirror_mode": {
    "name": "ipython",
    "version": 3
   },
   "file_extension": ".py",
   "mimetype": "text/x-python",
   "name": "python",
   "nbconvert_exporter": "python",
   "pygments_lexer": "ipython3",
   "version": "3.10.9"
  }
 },
 "nbformat": 4,
 "nbformat_minor": 5
}
